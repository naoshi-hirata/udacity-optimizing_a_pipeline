{
  "cells": [
    {
      "cell_type": "code",
      "source": [
        "from azureml.core import Workspace, Experiment\n",
        "\n",
        "ws = Workspace.from_config()\n",
        "exp = Experiment(workspace=ws, name=\"udacity-project\")\n",
        "\n",
        "print('Workspace name: ' + ws.name, \n",
        "      'Azure region: ' + ws.location, \n",
        "      'Subscription id: ' + ws.subscription_id, \n",
        "      'Resource group: ' + ws.resource_group, sep = '\\n')\n",
        "\n",
        "run = exp.start_logging()"
      ],
      "outputs": [],
      "execution_count": null,
      "metadata": {
        "gather": {
          "logged": 1598275788035
        }
      }
    },
    {
      "cell_type": "code",
      "source": [
        "from azureml.core.compute import ComputeTarget, AmlCompute\n",
        "\n",
        "cluster_name = \"my-cluster\"\n",
        "\n",
        "# TODO: Create compute cluster\n",
        "# Use vm_size = \"Standard_D2_V2\" in your provisioning configuration.\n",
        "# max_nodes should be no greater than 4.\n",
        "\n",
        "### YOUR CODE HERE ##################################################\n",
        "from azureml.core.compute_target import ComputeTargetException\n",
        "\n",
        "# Define the cluster name and VM size\n",
        "vm_size = \"Standard_D2_V2\"\n",
        "\n",
        "# Check if the cluster already exists, and create it if it doesn't\n",
        "try:\n",
        "    compute_cluster = ComputeTarget(workspace=ws, name=cluster_name)\n",
        "    print(\"Using existing compute cluster.\")\n",
        "except ComputeTargetException:\n",
        "    compute_config = AmlCompute.provisioning_configuration(vm_size=vm_size, max_nodes=4)\n",
        "    compute_cluster = ComputeTarget.create(ws, cluster_name, compute_config)\n",
        "\n",
        "compute_cluster.wait_for_completion(show_output=True)\n",
        "### YOUR CODE HERE ##########################################"
      ],
      "outputs": [],
      "execution_count": null,
      "metadata": {
        "gather": {
          "logged": 1598275788675
        },
        "jupyter": {
          "outputs_hidden": false,
          "source_hidden": false
        },
        "nteract": {
          "transient": {
            "deleting": false
          }
        }
      }
    },
    {
      "cell_type": "code",
      "source": [
        "from azureml.widgets import RunDetails\n",
        "from azureml.train.sklearn import SKLearn\n",
        "from azureml.train.hyperdrive.run import PrimaryMetricGoal\n",
        "from azureml.train.hyperdrive.policy import BanditPolicy\n",
        "from azureml.train.hyperdrive.sampling import RandomParameterSampling\n",
        "from azureml.train.hyperdrive.runconfig import HyperDriveConfig\n",
        "from azureml.train.hyperdrive.parameter_expressions import choice, uniform\n",
        "from azureml.core import Environment, ScriptRunConfig\n",
        "import os\n",
        "\n",
        "# Specify parameter sampler  ### YOUR CODE HERE start #######################\n",
        "\n",
        "ps = RandomParameterSampling({\n",
        "    \"--C\": choice(0.1, 1, 10),\n",
        "    \"--max_iter\": choice(50, 100, 150),\n",
        "    \"--penalty\": choice(\"l1\", \"l2\")\n",
        "})\n",
        "\n",
        "### YOUR CODE HERE end #######################\n",
        "\n",
        "# Specify a Policy ### YOUR CODE HERE start ##################################################\n",
        "\n",
        "policy = BanditPolicy(evaluation_interval=2, slack_factor=0.1)\n",
        "\n",
        "### YOUR CODE HERE end ##################################################\n",
        "\n",
        "\n",
        "\n",
        "if \"training\" not in os.listdir():\n",
        "    os.mkdir(\"./training\")\n",
        "\n",
        "# Setup environment for your training run\n",
        "sklearn_env = Environment.from_conda_specification(name='sklearn-env', file_path='conda_dependencies.yml')\n",
        "\n",
        "# Create a ScriptRunConfig Object to specify the configuration details of your training job\n",
        "### YOUR CODE HERE start #########################################\n",
        "\n",
        "src = ScriptRunConfig(\n",
        "    source_directory=\"./\",\n",
        "    script=\"train.py\",\n",
        "    compute_target=\"mycompute\",\n",
        "    environment=sklearn_env\n",
        ")\n",
        "\n",
        "### YOUR CODE HERE end ########################################\n",
        "\n",
        "\n",
        "# Create a HyperDriveConfig using the src object, hyperparameter sampler, and policy. \n",
        "### YOUR CODE HERE start ##########################################################\n",
        "\n",
        "# Define the primary metric for the hyperdrive run\n",
        "primary_metric = \"accuracy\"\n",
        "\n",
        "# Define the HyperDriveConfig object\n",
        "hyperdrive_config = HyperDriveConfig(\n",
        "    run_config=src,\n",
        "    hyperparameter_sampling=ps,\n",
        "    primary_metric_name=primary_metric,\n",
        "    primary_metric_goal=PrimaryMetricGoal.MAXIMIZE,\n",
        "    max_total_runs=10,\n",
        "    max_concurrent_runs=4,\n",
        "    policy=policy\n",
        ")\n",
        "\n",
        "### YOUR CODE HERE end ######################################################"
      ],
      "outputs": [],
      "execution_count": null,
      "metadata": {
        "gather": {
          "logged": 1598275789986
        },
        "jupyter": {
          "outputs_hidden": false,
          "source_hidden": false
        },
        "nteract": {
          "transient": {
            "deleting": false
          }
        }
      }
    },
    {
      "cell_type": "code",
      "source": [
        "# Submit your hyperdrive run to the experiment and show run details with the widget.\n",
        "\n",
        "### YOUR CODE HERE start ########################\n",
        "from azureml.widgets import RunDetails\n",
        "\n",
        "# Submit the hyperdrive run to the experiment\n",
        "hyperdrive_run = experiment.submit(hyperdrive_config)\n",
        "\n",
        "# Use RunDetails to display the progress of the run\n",
        "RunDetails(hyperdrive_run).show()\n",
        "\n",
        "### YOUR CODE HERE end ##########################"
      ],
      "outputs": [],
      "execution_count": null,
      "metadata": {}
    },
    {
      "cell_type": "code",
      "source": [
        "import joblib\n",
        "# Get your best run and save the model from that run.\n",
        "\n",
        "### YOUR CODE HERE start ##############################################\n",
        "from azureml.core.run import Run\n",
        "\n",
        "# Get the best run based on the primary metric\n",
        "best_run = hyperdrive_run.get_best_run_by_primary_metric()\n",
        "\n",
        "# Save the model from the best run\n",
        "model = best_run.register_model(model_name='hyperdrive_model', model_path='outputs/hyperdrive_model.joblib')\n",
        "\n",
        "# Download the model file to your local machine\n",
        "model_file = model.download(exist_ok=True)\n",
        "\n",
        "# Print the path to the downloaded file\n",
        "print(f\"Model file downloaded at {model_file}\")\n",
        "\n",
        "### YOUR CODE HERE end ###"
      ],
      "outputs": [],
      "execution_count": null,
      "metadata": {
        "gather": {
          "logged": 1598276310862
        },
        "jupyter": {
          "outputs_hidden": false,
          "source_hidden": false
        },
        "nteract": {
          "transient": {
            "deleting": false
          }
        }
      }
    },
    {
      "cell_type": "code",
      "source": [
        "from azureml.data.dataset_factory import TabularDatasetFactory\n",
        "\n",
        "# Create TabularDataset using TabularDatasetFactory\n",
        "# Data is available at: \n",
        "# \"https://automlsamplenotebookdata.blob.core.windows.net/automl-sample-notebook-data/bankmarketing_train.csv\"\n",
        "\n",
        "### YOUR CODE HERE start ##################################################\n",
        "from azureml.core import Workspace, Dataset\n",
        "\n",
        "# Set up the data URL\n",
        "data_url = \"https://automlsamplenotebookdata.blob.core.windows.net/automl-sample-notebook-data/bankmarketing_train.csv\"\n",
        "\n",
        "# Create the TabularDataset using TabularDatasetFactory\n",
        "ds = Dataset.Tabular.from_delimited_files(data_url)\n",
        "\n",
        "# Print the first 5 rows of the dataset\n",
        "# df = ds.to_pandas_dataframe()\n",
        "# print(df.head())\n",
        "\n",
        "### YOUR CODE HERE end ####################################################"
      ],
      "outputs": [],
      "execution_count": null,
      "metadata": {}
    },
    {
      "cell_type": "code",
      "source": [
        "from train import clean_data\n",
        "\n",
        "# Use the clean_data function to clean your data.\n",
        "x, y = clean_data(ds)  ### <- YOUR DATA OBJECT HERE #####################"
      ],
      "outputs": [],
      "execution_count": null,
      "metadata": {
        "gather": {
          "logged": 1598275726969
        },
        "jupyter": {
          "outputs_hidden": false,
          "source_hidden": false
        },
        "nteract": {
          "transient": {
            "deleting": false
          }
        }
      }
    },
    {
      "cell_type": "code",
      "source": [
        "from azureml.train.automl import AutoMLConfig\n",
        "\n",
        "# Set parameters for AutoMLConfig\n",
        "# NOTE: DO NOT CHANGE THE experiment_timeout_minutes PARAMETER OR YOUR INSTANCE WILL TIME OUT.\n",
        "# If you wish to run the experiment longer, you will need to run this notebook in your own\n",
        "# Azure tenant, which will incur personal costs.\n",
        "automl_config = AutoMLConfig(\n",
        "    experiment_timeout_minutes=30,\n",
        "    task='classification',\n",
        "    primary_metric= \"accuracy\",\n",
        "    training_data=ds,\n",
        "    label_column_name='y',\n",
        "    n_cross_validations=5\n",
        ")\n"
      ],
      "outputs": [],
      "execution_count": null,
      "metadata": {
        "gather": {
          "logged": 1598275665403
        },
        "jupyter": {
          "outputs_hidden": false,
          "source_hidden": false
        },
        "nteract": {
          "transient": {
            "deleting": false
          }
        }
      }
    },
    {
      "cell_type": "code",
      "source": [
        "# Submit your automl run\n",
        "\n",
        "### YOUR CODE HERE ###\n",
        "from azureml.core.experiment import Experiment\n",
        "experiment_name = 'automl-bankmarketing'\n",
        "experiment = Experiment(ws, experiment_name)\n",
        "run = experiment.submit(automl_config, show_output=True)"
      ],
      "outputs": [],
      "execution_count": 2,
      "metadata": {
        "jupyter": {
          "outputs_hidden": false,
          "source_hidden": false
        },
        "nteract": {
          "transient": {
            "deleting": false
          }
        }
      }
    },
    {
      "cell_type": "code",
      "source": [
        "# Retrieve and save your best automl model.\n",
        "\n",
        "### YOUR CODE HERE ###\n",
        "# Monitor the run\n",
        "RunDetails(run).show()\n",
        "\n",
        "# Retrieve the best model and save it\n",
        "best_run, fitted_model = run.get_output()\n",
        "model_name = best_run.properties['model_name']\n",
        "joblib.dump(fitted_model, './outputs/' + model_name + '.pkl')"
      ],
      "outputs": [],
      "execution_count": null,
      "metadata": {}
    }
  ],
  "metadata": {
    "kernel_info": {
      "name": "python3"
    },
    "kernelspec": {
      "name": "python3",
      "language": "python",
      "display_name": "Python 3 (ipykernel)"
    },
    "language_info": {
      "name": "python",
      "version": "3.8.5",
      "mimetype": "text/x-python",
      "codemirror_mode": {
        "name": "ipython",
        "version": 3
      },
      "pygments_lexer": "ipython3",
      "nbconvert_exporter": "python",
      "file_extension": ".py"
    },
    "nteract": {
      "version": "nteract-front-end@1.0.0"
    },
    "microsoft": {
      "ms_spell_check": {
        "ms_spell_check_language": "en"
      }
    }
  },
  "nbformat": 4,
  "nbformat_minor": 2
}